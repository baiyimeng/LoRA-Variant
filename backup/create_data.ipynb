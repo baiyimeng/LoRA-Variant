{
 "cells": [
  {
   "cell_type": "code",
   "execution_count": 1,
   "id": "3ecd6c67",
   "metadata": {},
   "outputs": [
    {
     "name": "stderr",
     "output_type": "stream",
     "text": [
      "/root/autodl-tmp/miniconda3/envs/scaling/lib/python3.11/site-packages/tqdm/auto.py:21: TqdmWarning: IProgress not found. Please update jupyter and ipywidgets. See https://ipywidgets.readthedocs.io/en/stable/user_install.html\n",
      "  from .autonotebook import tqdm as notebook_tqdm\n"
     ]
    }
   ],
   "source": [
    "import os\n",
    "\n",
    "os.environ[\"HF_ENDPOINT\"] = \"https://hf-mirror.com\"\n",
    "import re\n",
    "from collections import defaultdict\n",
    "from datasets import load_from_disk\n",
    "from datasets import Dataset, DatasetDict\n",
    "from datasets import Dataset\n",
    "from tqdm import tqdm\n",
    "import random"
   ]
  },
  {
   "cell_type": "code",
   "execution_count": 2,
   "id": "acb63e20",
   "metadata": {},
   "outputs": [
    {
     "name": "stdout",
     "output_type": "stream",
     "text": [
      "Loading datasets for category: Books\n"
     ]
    }
   ],
   "source": [
    "category=\"Books\"\n",
    "print(f\"Loading datasets for category: {category}\")\n",
    "review_dataset = load_from_disk(\n",
    "    f\"/root/autodl-tmp/dataset/raw_review_{category}\"\n",
    ")\n",
    "meta_dataset = load_from_disk(\n",
    "    f\"/root/autodl-tmp/dataset/raw_meta_{category}\"\n",
    ")"
   ]
  },
  {
   "cell_type": "code",
   "execution_count": 3,
   "id": "9c3a5a07",
   "metadata": {},
   "outputs": [],
   "source": [
    "# ---------------------------\n",
    "# Preprocessing Functions\n",
    "# ---------------------------\n",
    "\n",
    "def review_filter(x):\n",
    "    # Filter reviews with sufficient content\n",
    "    return (\n",
    "        x[\"text\"]\n",
    "        and len(x[\"text\"]) >= 100\n",
    "        and x[\"rating\"]\n",
    "        and x[\"title\"]\n",
    "        and x[\"timestamp\"]\n",
    "    )\n",
    "\n",
    "def create_description(x):\n",
    "    # Extract and concatenate product description\n",
    "    desc = x[\"description\"]\n",
    "    if not desc or (desc[0] == \"Product Description\" and len(desc) == 1):\n",
    "        return \"\"\n",
    "    if desc[0] == \"Product Description\":\n",
    "        return \" \".join(desc[1:])\n",
    "    return \" \".join(desc)\n",
    "\n",
    "def meta_filter(x):\n",
    "    # Filter meta entries with meaningful information\n",
    "    return (\n",
    "        100 <= len(create_description(x)) <= 2000\n",
    "        and x[\"title\"]\n",
    "        and x[\"categories\"]\n",
    "        and x[\"rating_number\"]\n",
    "    )"
   ]
  },
  {
   "cell_type": "code",
   "execution_count": 4,
   "id": "10ae1b88",
   "metadata": {},
   "outputs": [
    {
     "name": "stderr",
     "output_type": "stream",
     "text": [
      "Filter (num_proc=64): 100%|██████████| 4448181/4448181 [00:08<00:00, 512941.04 examples/s]\n",
      "Map (num_proc=64): 100%|██████████| 1174554/1174554 [00:04<00:00, 243312.17 examples/s]\n"
     ]
    }
   ],
   "source": [
    "# ---------------------------\n",
    "# Meta Dataset Preprocessing\n",
    "# ---------------------------\n",
    "\n",
    "meta_columns = [\n",
    "    col for col in meta_dataset.column_names if col not in {\"title\", \"description\"}\n",
    "]\n",
    "meta_dataset = meta_dataset.filter(\n",
    "    meta_filter, num_proc=64, load_from_cache_file=False\n",
    ")\n",
    "meta_dataset = meta_dataset.map(\n",
    "    lambda x: {\n",
    "        \"asin\": x[\"parent_asin\"],\n",
    "        \"title\": x[\"title\"],\n",
    "        \"description\": create_description(x),\n",
    "    },\n",
    "    num_proc=64,\n",
    "    remove_columns=meta_columns,\n",
    "    load_from_cache_file=False,\n",
    ")\n",
    "\n",
    "valid_asins = set(meta_dataset[\"asin\"])"
   ]
  },
  {
   "cell_type": "code",
   "execution_count": 5,
   "id": "a9187c31",
   "metadata": {},
   "outputs": [
    {
     "name": "stderr",
     "output_type": "stream",
     "text": [
      "Filter (num_proc=64): 100%|██████████| 29475453/29475453 [00:09<00:00, 3052047.58 examples/s]\n",
      "Map (num_proc=64): 100%|██████████| 20438691/20438691 [00:58<00:00, 346962.86 examples/s]\n",
      "Filter (num_proc=64): 100%|██████████| 20438691/20438691 [00:06<00:00, 2998152.78 examples/s]\n"
     ]
    }
   ],
   "source": [
    "# ---------------------------\n",
    "# Review Dataset Preprocessing\n",
    "# ---------------------------\n",
    "\n",
    "review_columns = [\n",
    "    col\n",
    "    for col in review_dataset.column_names\n",
    "    if col not in {\"user_id\", \"asin\", \"title\", \"text\", \"rating\", \"timestamp\"}\n",
    "]\n",
    "review_dataset = review_dataset.filter(\n",
    "    review_filter, num_proc=64, load_from_cache_file=False\n",
    ")\n",
    "review_dataset = review_dataset.map(\n",
    "    lambda x: {\n",
    "        \"user_id\": x[\"user_id\"],\n",
    "        \"asin\": x[\"parent_asin\"],\n",
    "        \"title\": x[\"title\"].strip(),\n",
    "        \"text\": x[\"text\"].strip(),\n",
    "        \"rating\": x[\"rating\"],\n",
    "        \"timestamp\": x[\"timestamp\"],\n",
    "    },\n",
    "    num_proc=64,\n",
    "    remove_columns=review_columns,\n",
    "    load_from_cache_file=False,\n",
    ")\n",
    "review_dataset = review_dataset.filter(\n",
    "    lambda x: x[\"asin\"] in valid_asins, num_proc=64, load_from_cache_file=False\n",
    ")\n"
   ]
  },
  {
   "cell_type": "code",
   "execution_count": 6,
   "id": "0d603dab",
   "metadata": {},
   "outputs": [],
   "source": [
    "K = 6"
   ]
  },
  {
   "cell_type": "code",
   "execution_count": 7,
   "id": "33889379",
   "metadata": {},
   "outputs": [
    {
     "name": "stdout",
     "output_type": "stream",
     "text": [
      "Building user → review map...\n"
     ]
    },
    {
     "name": "stderr",
     "output_type": "stream",
     "text": [
      "Collecting reviews: 100%|██████████| 6579093/6579093 [08:59<00:00, 12197.29it/s]\n"
     ]
    },
    {
     "name": "stdout",
     "output_type": "stream",
     "text": [
      "Deduplicating & filtering...\n"
     ]
    },
    {
     "name": "stderr",
     "output_type": "stream",
     "text": [
      "Processing users: 100%|██████████| 3399430/3399430 [00:08<00:00, 392546.03it/s]\n"
     ]
    },
    {
     "name": "stdout",
     "output_type": "stream",
     "text": [
      "Rebuilding dataset...\n"
     ]
    }
   ],
   "source": [
    "def filter_users(dataset):\n",
    "    user_review = defaultdict(list)\n",
    "\n",
    "    print(\"Building user → review map...\")\n",
    "    for r in tqdm(dataset, desc=\"Collecting reviews\"):\n",
    "        user_review[r[\"user_id\"]].append({\n",
    "            \"asin\": r[\"asin\"],\n",
    "            \"title\": r[\"title\"],\n",
    "            \"text\": r[\"text\"],\n",
    "            \"rating\": r[\"rating\"],\n",
    "            \"timestamp\": r[\"timestamp\"],\n",
    "        })\n",
    "\n",
    "    print(\"Deduplicating & filtering...\")\n",
    "    filtered_user_review = {}\n",
    "    for user in tqdm(user_review, desc=\"Processing users\"):\n",
    "        reviews = user_review[user]\n",
    "        reviews.sort(key=lambda r: r[\"timestamp\"], reverse=True)\n",
    "\n",
    "        seen_asin, seen_text = set(), set()\n",
    "        deduped = []\n",
    "        for r in reviews:\n",
    "            if r[\"asin\"] not in seen_asin and r[\"text\"] not in seen_text:\n",
    "                seen_asin.add(r[\"asin\"])\n",
    "                seen_text.add(r[\"text\"])\n",
    "                deduped.append(r)\n",
    "\n",
    "        if len(deduped) >= K:\n",
    "            filtered_user_review[user] = deduped\n",
    "\n",
    "    print(\"Rebuilding dataset...\")\n",
    "    all_filtered = [r for reviews in filtered_user_review.values() for r in reviews]\n",
    "    filtered_dataset = Dataset.from_list(all_filtered)\n",
    "\n",
    "    return filtered_dataset, filtered_user_review\n",
    "\n",
    "\n",
    "review_dataset, user_review = filter_users(review_dataset)"
   ]
  },
  {
   "cell_type": "code",
   "execution_count": 8,
   "id": "10dcc99c",
   "metadata": {},
   "outputs": [
    {
     "name": "stderr",
     "output_type": "stream",
     "text": [
      "  0%|          | 0/129341 [00:00<?, ?it/s]"
     ]
    },
    {
     "name": "stderr",
     "output_type": "stream",
     "text": [
      "100%|██████████| 129341/129341 [01:16<00:00, 1698.06it/s]\n",
      "100%|██████████| 129341/129341 [00:00<00:00, 422898.51it/s]\n"
     ]
    }
   ],
   "source": [
    "def clean_and_split_reviews():\n",
    "    for user_id, reviews in tqdm(user_review.items()):\n",
    "        # Sort by time and clean text\n",
    "        reviews.sort(key=lambda x: x[\"timestamp\"], reverse=False)\n",
    "        for r in reviews:\n",
    "            r[\"text\"] = re.sub(r\"\\s+\", \" \", r[\"text\"].strip())\n",
    "\n",
    "    # Split into profile (past) and input (future) reviews\n",
    "    user_review_split = {}\n",
    "    for user_id, reviews in tqdm(user_review.items()):\n",
    "        reviews = reviews[-K:]\n",
    "        history, target = reviews[:-1], reviews[-1]\n",
    "        user_review_split[user_id] = (history, target)\n",
    "    return user_review_split\n",
    "\n",
    "user_review_split = clean_and_split_reviews()"
   ]
  },
  {
   "cell_type": "code",
   "execution_count": null,
   "id": "356a2878",
   "metadata": {},
   "outputs": [
    {
     "name": "stderr",
     "output_type": "stream",
     "text": [
      "100%|██████████| 129341/129341 [00:00<00:00, 811376.83it/s]\n"
     ]
    }
   ],
   "source": [
    "seed = 42\n",
    "random.seed(seed)\n",
    "\n",
    "all_users = list(user_review_split.keys())\n",
    "random.shuffle(all_users)\n",
    "\n",
    "n_total = len(all_users)\n",
    "n_train = int(n_total * 0.8)\n",
    "n_val = int(n_total * 0.1)\n",
    "n_test = n_total - n_train - n_val\n",
    "\n",
    "train_users = set(all_users[:n_train])\n",
    "val_users = set(all_users[n_train:n_train + n_val])\n",
    "test_users = set(all_users[n_train + n_val:])\n",
    "\n",
    "train_data, val_data, test_data = [], [], []\n",
    "for user_id, (history, target) in tqdm(user_review_split.items()):\n",
    "    if user_id in train_users:\n",
    "        train_data.append((user_id, history, target))\n",
    "    if user_id in val_users:\n",
    "        val_data.append((user_id, history, target))\n",
    "    if user_id in test_users:\n",
    "        test_data.append((user_id, history, target))"
   ]
  },
  {
   "cell_type": "code",
   "execution_count": null,
   "id": "4ad6fb52",
   "metadata": {},
   "outputs": [
    {
     "data": {
      "text/plain": [
       "(103472, 12934, 12935)"
      ]
     },
     "execution_count": 10,
     "metadata": {},
     "output_type": "execute_result"
    }
   ],
   "source": [
    "len(train_users), len(val_users), len(test_users)"
   ]
  },
  {
   "cell_type": "code",
   "execution_count": null,
   "id": "ce8cf234",
   "metadata": {},
   "outputs": [],
   "source": [
    "def convert_to_dataset(data):\n",
    "    user_ids, historys, targets = zip(*data)\n",
    "    return Dataset.from_dict(\n",
    "        {\n",
    "            \"user_id\": list(user_ids),\n",
    "            \"history\": list(historys),\n",
    "            \"target\": list(targets),\n",
    "        }\n",
    "    )\n",
    "train_dataset = convert_to_dataset(train_data)\n",
    "val_dataset = convert_to_dataset(val_data)\n",
    "test_dataset = convert_to_dataset(test_data)"
   ]
  },
  {
   "cell_type": "code",
   "execution_count": null,
   "id": "9f87d4c4",
   "metadata": {},
   "outputs": [],
   "source": [
    "main_dataset = DatasetDict(\n",
    "    {\n",
    "        \"train\": train_dataset,\n",
    "        \"val\": val_dataset,\n",
    "        \"test\": test_dataset,\n",
    "    }\n",
    ")\n",
    "meta_dataset = DatasetDict({\"full\": meta_dataset})"
   ]
  },
  {
   "cell_type": "code",
   "execution_count": 13,
   "id": "7753f728",
   "metadata": {},
   "outputs": [
    {
     "name": "stderr",
     "output_type": "stream",
     "text": [
      "Saving the dataset (1/1 shards): 100%|██████████| 103472/103472 [00:00<00:00, 367472.43 examples/s]\n",
      "Saving the dataset (1/1 shards): 100%|██████████| 12934/12934 [00:00<00:00, 326420.50 examples/s]\n",
      "Saving the dataset (1/1 shards): 100%|██████████| 12935/12935 [00:00<00:00, 322333.98 examples/s]\n",
      "Saving the dataset (3/3 shards): 100%|██████████| 1174554/1174554 [00:01<00:00, 1165474.57 examples/s]\n"
     ]
    }
   ],
   "source": [
    "# ---------------------------\n",
    "# Save to Disk\n",
    "# ---------------------------\n",
    "\n",
    "main_dataset.save_to_disk(f\"/root/autodl-tmp/dataset/review_{category}\")\n",
    "meta_dataset.save_to_disk(f\"/root/autodl-tmp/dataset/meta_{category}\")"
   ]
  }
 ],
 "metadata": {
  "kernelspec": {
   "display_name": "scaling",
   "language": "python",
   "name": "python3"
  },
  "language_info": {
   "codemirror_mode": {
    "name": "ipython",
    "version": 3
   },
   "file_extension": ".py",
   "mimetype": "text/x-python",
   "name": "python",
   "nbconvert_exporter": "python",
   "pygments_lexer": "ipython3",
   "version": "3.11.11"
  }
 },
 "nbformat": 4,
 "nbformat_minor": 5
}
